{
 "cells": [
  {
   "cell_type": "markdown",
   "id": "e5d28a0c-b1e8-46e3-bfc3-1c100873c925",
   "metadata": {},
   "source": [
    "## De-identification ##\n",
    "Removes sensitive information from dataset"
   ]
  },
  {
   "cell_type": "code",
   "execution_count": 11,
   "id": "4b6c1444-ec0c-405b-99ef-7843d63b1aae",
   "metadata": {},
   "outputs": [],
   "source": [
    "import numpy as np\n",
    "import pandas as pd\n",
    "import os\n",
    "import glob"
   ]
  },
  {
   "cell_type": "markdown",
   "id": "62ef2e89-461e-4c92-8a65-8ed3d4ca7672",
   "metadata": {
    "jp-MarkdownHeadingCollapsed": true,
    "tags": []
   },
   "source": [
    "### For 0620- and Incomplete_Datasets ###"
   ]
  },
  {
   "cell_type": "code",
   "execution_count": 12,
   "id": "11daf163-a54c-4c3c-8f20-427ce9bbade8",
   "metadata": {},
   "outputs": [
    {
     "name": "stdout",
     "output_type": "stream",
     "text": [
      "./Data/Incomplete_Datasets/CSVLog_20230613_211720.csv\n",
      "./Data/Incomplete_Datasets/CSVLog_20230614_152837.csv\n",
      "./Data/Incomplete_Datasets/CSVLog_20230618_205944.csv\n",
      "./Data/Incomplete_Datasets/CSVLog_20230618_182316.csv\n",
      "./Data/Incomplete_Datasets/CSVLog_20230615_085041.csv\n",
      "./Data/Incomplete_Datasets/CSVLog_20230617_171139.csv\n",
      "./Data/Incomplete_Datasets/CSVLog_20230613_145021.csv\n",
      "./Data/Incomplete_Datasets/CSVLog_20230616_141252.csv\n",
      "./Data/Incomplete_Datasets/CSVLog_20230615_231313.csv\n",
      "./Data/Incomplete_Datasets/CSVLog_20230615_222636.csv\n",
      "./Data/Incomplete_Datasets/CSVLog_20230616_084922.csv\n",
      "./Data/Incomplete_Datasets/CSVLog_20230618_112024.csv\n",
      "./Data/Incomplete_Datasets/CSVLog_20230618_181852.csv\n",
      "./Data/Incomplete_Datasets/CSVLog_20230615_121819.csv\n",
      "./Data/Incomplete_Datasets/CSVLog_20230613_225842.csv\n",
      "./Data/Incomplete_Datasets/CSVLog_20230613_145920.csv\n",
      "./Data/Incomplete_Datasets/CSVLog_20230615_203443.csv\n",
      "./Data/Incomplete_Datasets/CSVLog_20230614_085033.csv\n",
      "./Data/Incomplete_Datasets/CSVLog_20230617_211633.csv\n"
     ]
    }
   ],
   "source": [
    "# use glob to get all the csv files in the folder\n",
    "csv_files = glob.glob(os.path.join('./Data/Incomplete_Datasets/', \"*.csv\")) #path\n",
    "\n",
    "# loop over the list of csv files\n",
    "for f in csv_files: \n",
    "    print(f)\n",
    "    # read the csv file\n",
    "    \n",
    "    #makes sure to read and keep comments, useful for merging\n",
    "    comments = pd.read_csv(f, nrows = 2, header=None)\n",
    "    \n",
    "    df = pd.read_csv(f, comment=\"#\")\n",
    "    df.drop(labels = [\" Latitude (deg)\", \" Longitude (deg)\", \"Latitude (deg)\", \"Longitude (deg)\"], axis = 1, errors='ignore', inplace=True)\n",
    "    \n",
    "    with open(f, 'w') as csv_file:\n",
    "        csv_file.write(comments.iloc[0][0] + \"\\n\")\n",
    "        csv_file.write(comments.iloc[1][0] + \"\\n\")\n",
    "        df.to_csv(path_or_buf=csv_file, index=False)\n"
   ]
  },
  {
   "cell_type": "markdown",
   "id": "6353f180-08b8-490c-a771-9dcd02b6d865",
   "metadata": {
    "jp-MarkdownHeadingCollapsed": true,
    "tags": []
   },
   "source": [
    "### For Data_With_API and Merged ###"
   ]
  },
  {
   "cell_type": "code",
   "execution_count": 13,
   "id": "c1f60372-0149-404f-bec5-a80bc66abba6",
   "metadata": {},
   "outputs": [
    {
     "name": "stdout",
     "output_type": "stream",
     "text": [
      "./Data/Merged/merged.csv\n",
      "./Data/Merged/api_merged_10min.csv\n",
      "./Data/Merged/api_merged.csv\n",
      "./Data/Merged/api_merged_5min.csv\n",
      "./Data/Merged/api_merged_1min.csv\n",
      "./Data/Merged/api_merged_30sec.csv\n"
     ]
    }
   ],
   "source": [
    "# use glob to get all the csv files in the folder\n",
    "csv_files = glob.glob(os.path.join('./Data/Merged/', \"*.csv\")) #path\n",
    "\n",
    "# loop over the list of csv files\n",
    "for f in csv_files: \n",
    "    print(f)\n",
    "    # read the csv file\n",
    "    df = pd.read_csv(f, comment=\"#\")\n",
    "    df.drop(labels = [\" Latitude (deg)\", \" Longitude (deg)\", \"Latitude (deg)\", \"Longitude (deg)\"], axis = 1, errors='ignore', inplace=True)\n",
    "    \n",
    "    with open(f, 'w') as csv_file:\n",
    "        df.to_csv(path_or_buf=csv_file, index=False)\n"
   ]
  },
  {
   "cell_type": "code",
   "execution_count": null,
   "id": "c8dfdea2-47f8-400a-a5fa-58919b5a7382",
   "metadata": {},
   "outputs": [],
   "source": []
  }
 ],
 "metadata": {
  "kernelspec": {
   "display_name": "Python 3 (ipykernel)",
   "language": "python",
   "name": "python3"
  },
  "language_info": {
   "codemirror_mode": {
    "name": "ipython",
    "version": 3
   },
   "file_extension": ".py",
   "mimetype": "text/x-python",
   "name": "python",
   "nbconvert_exporter": "python",
   "pygments_lexer": "ipython3",
   "version": "3.10.9"
  }
 },
 "nbformat": 4,
 "nbformat_minor": 5
}
